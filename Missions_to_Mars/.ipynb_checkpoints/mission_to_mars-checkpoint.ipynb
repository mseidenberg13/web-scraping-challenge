{
 "cells": [
  {
   "cell_type": "code",
   "execution_count": 24,
   "metadata": {},
   "outputs": [],
   "source": [
    "from bs4 import BeautifulSoup as bs\n",
    "from splinter import Browser\n",
    "import pandas as pd\n",
    "import time"
   ]
  },
  {
   "cell_type": "code",
   "execution_count": 25,
   "metadata": {},
   "outputs": [],
   "source": [
    "import os\n",
    "if os.name==\"nt\":\n",
    "    executable_path = {'executable_path': './chromedriver.exe'}\n",
    "else:\n",
    "    executable_path = {\"executable_path\": \"/usr/local/bin/chromedriver\"}"
   ]
  },
  {
   "cell_type": "code",
   "execution_count": 26,
   "metadata": {},
   "outputs": [],
   "source": [
    "browser = Browser('chrome', **executable_path, headless=False)"
   ]
  },
  {
   "cell_type": "code",
   "execution_count": 27,
   "metadata": {},
   "outputs": [],
   "source": [
    "url = 'https://mars.nasa.gov/news/'\n",
    "browser.visit(url)"
   ]
  },
  {
   "cell_type": "code",
   "execution_count": 28,
   "metadata": {},
   "outputs": [],
   "source": [
    "html = browser.html\n",
    "soup = bs(html, 'html.parser')"
   ]
  },
  {
   "cell_type": "code",
   "execution_count": 29,
   "metadata": {},
   "outputs": [
    {
     "name": "stdout",
     "output_type": "stream",
     "text": [
      "The Detective Aboard NASA's Perseverance Rover\n",
      "An instrument called SHERLOC will, with the help of its partner WATSON, hunt for signs of ancient life by detecting organic molecules and minerals.\n"
     ]
    }
   ],
   "source": [
    "news_title= soup.find_all('div', class_= \"content_title\")[1].text\n",
    "\n",
    "news_p = soup.find('div', class_=\"article_teaser_body\").text\n",
    "\n",
    "print(news_title)\n",
    "print(news_p)"
   ]
  },
  {
   "cell_type": "code",
   "execution_count": 30,
   "metadata": {},
   "outputs": [],
   "source": [
    "nasa_url = 'https://www.jpl.nasa.gov'\n",
    "image_url = 'https://www.jpl.nasa.gov/spaceimages/?search=&category=Mars'\n",
    "\n",
    "browser.visit(image_url)\n",
    "image_html = browser.html\n",
    "image_soup = bs(image_html, 'html.parser')"
   ]
  },
  {
   "cell_type": "code",
   "execution_count": 31,
   "metadata": {},
   "outputs": [
    {
     "name": "stdout",
     "output_type": "stream",
     "text": [
      "https://www.jpl.nasa.gov/spaceimages/images/mediumsize/PIA07137_ip.jpg\n"
     ]
    }
   ],
   "source": [
    "image_path = image_soup.find('article', class_='carousel_item')\n",
    "\n",
    "footer = image_path.find('footer')\n",
    "a_footer = footer.find('a')\n",
    "path = a_footer['data-fancybox-href']\n",
    "\n",
    "featured_image_url = (nasa_url + path)\n",
    "print(featured_image_url)"
   ]
  },
  {
   "cell_type": "code",
   "execution_count": 32,
   "metadata": {},
   "outputs": [],
   "source": [
    "mars_twitter = 'https://twitter.com/marswxreport?lang=en'\n",
    "\n",
    "browser.visit(mars_twitter)\n",
    "time.sleep(1)\n",
    "twitter_html = browser.html\n",
    "weather_soup = bs(twitter_html, 'html.parser')"
   ]
  },
  {
   "cell_type": "code",
   "execution_count": 33,
   "metadata": {},
   "outputs": [
    {
     "name": "stdout",
     "output_type": "stream",
     "text": [
      "Log in\n",
      "Sign up\n",
      "See new Tweets\n",
      "Follow\n",
      "Mars Weather\n",
      "Mars Weather\n",
      "@MarsWxReport\n",
      "Updates as avail from the REMS weather instrument aboard \n",
      ".  Data credit: Centro deAstrobiologia, FMI, JPL/NASA, Not an official acct.\n",
      "Gale Crater, Mars\n",
      "Gale Crater, Mars\n",
      "51\n",
      "Following\n",
      "57.3K\n",
      "Followers\n",
      "Tweets\n",
      "Tweets & replies\n",
      "Media\n",
      "Likes\n",
      "Tweets\n",
      "Tweets & replies\n",
      "Media\n",
      "Likes\n",
      "Mars Weather\n",
      "Mars Weather\n",
      "@MarsWxReport\n",
      "·\n",
      "InSight sol 533 (2020-05-27) low -92.8ºC (-135.1ºF) high -6.7ºC (19.9ºF)\n",
      "winds from the SW at 6.4 m/s (14.2 mph) gusting to 21.3 m/s (47.5 mph)\n",
      "pressure at 7.20 hPa\n",
      "1\n",
      "5\n",
      "21\n",
      "Mars Weather\n",
      "Mars Weather\n",
      "Fraser Cain\n",
      "Fraser Cain\n",
      "@fcain\n",
      "·\n",
      "Mars doesn't have much of a magnetosphere, but here's a map -  \n",
      "13\n",
      "39\n",
      "Mars Weather\n",
      "Mars Weather\n",
      "@MarsWxReport\n",
      "·\n",
      "InSight sol 532 (2020-05-26) low -93.1ºC (-135.7ºF) high -1.1ºC (30.0ºF)\n",
      "winds from the SW at 4.9 m/s (10.9 mph) gusting to 17.7 m/s (39.6 mph)\n",
      "pressure at 7.10 hPa\n",
      "7\n",
      "14\n",
      "Mars Weather\n",
      "Mars Weather\n",
      "@MarsWxReport\n",
      "·\n",
      "InSight sol 531 (2020-05-24) low -93.5ºC (-136.2ºF) high -6.1ºC (21.0ºF)\n",
      "winds from the WNW at 5.6 m/s (12.5 mph) gusting to 21.1 m/s (47.3 mph)\n",
      "pressure at 7.10 hPa\n",
      "6\n",
      "22\n",
      "Mars Weather\n",
      "Mars Weather\n",
      "@MarsWxReport\n",
      "·\n",
      "InSight sol 530 (2020-05-23) low -92.6ºC (-134.7ºF) high 0.4ºC (32.7ºF)\n",
      "winds from the SW at 4.7 m/s (10.6 mph) gusting to 17.4 m/s (38.9 mph)\n",
      "pressure at 7.10 hPa\n",
      "2\n",
      "7\n",
      "32\n",
      "Mars Weather\n",
      "Mars Weather\n",
      "@MarsWxReport\n",
      "·\n",
      "InSight sol 529 (2020-05-22) low -93.2ºC (-135.8ºF) high 0.6ºC (33.1ºF)\n",
      "winds from the WNW at 4.6 m/s (10.3 mph) gusting to 15.5 m/s (34.6 mph)\n",
      "pressure at 7.10 hPa\n",
      "4\n",
      "24\n",
      "Mars Weather\n",
      "Mars Weather\n",
      "@MarsWxReport\n",
      "·\n",
      "InSight sol 528 (2020-05-22) low -93.5ºC (-136.3ºF) high -5.3ºC (22.4ºF)\n",
      "winds from the SW at 6.3 m/s (14.0 mph) gusting to 23.6 m/s (52.8 mph)\n",
      "pressure at 7.10 hPa\n",
      "1\n",
      "6\n",
      "33\n",
      "New to Twitter?\n",
      "Sign up now to get your own personalized timeline!\n",
      "Sign up\n",
      "You might like\n",
      "NASA InSight\n",
      "NASA InSight\n",
      "@NASAInSight\n",
      "Follow\n",
      "Spirit and Oppy\n",
      "Spirit and Oppy\n",
      "@MarsRovers\n",
      "Follow\n",
      "HiRISE: Beautiful Mars (NASA)\n",
      "HiRISE: Beautiful Mars (NASA)\n",
      "@HiRISE\n",
      "Follow\n",
      "Show more\n",
      "What’s happening\n",
      "COVID-19\n",
      "·\n",
      "LIVE\n",
      "COVID-19: Updates for the US\n",
      "#LoveLifeonMax\n",
      "It’s finally here, stream now\n",
      "Promoted by HBO Max\n",
      "Trending in United States\n",
      "#ncaalearnlead\n",
      "Trending with: #NCAAcsf\n",
      "US news\n",
      "·\n",
      "1 hour ago\n",
      "Denzel Washington's interaction with police and a distressed man earns praise following police brutality in Minneapolis\n",
      "Trending in United States\n",
      "Dean Cain\n",
      "4,365 Tweets\n",
      "Show more\n",
      "Terms\n",
      "Privacy policy\n",
      "Cookies\n",
      "Ads info\n",
      "© 2020 Twitter, Inc.\n"
     ]
    }
   ],
   "source": [
    " weather = weather_soup.find_all('span', class_='css-901oao css-16my406 r-1qd0xha r-ad9z0x r-bcqeeo r-qvutc0')\n",
    "\n",
    "for w in weather:\n",
    "    print(w.text)"
   ]
  },
  {
   "cell_type": "code",
   "execution_count": 34,
   "metadata": {},
   "outputs": [
    {
     "data": {
      "text/plain": [
       "'InSight sol 533 (2020-05-27) low -92.8ºC (-135.1ºF) high -6.7ºC (19.9ºF)\\nwinds from the SW at 6.4 m/s (14.2 mph) gusting to 21.3 m/s (47.5 mph)\\npressure at 7.20 hPa'"
      ]
     },
     "execution_count": 34,
     "metadata": {},
     "output_type": "execute_result"
    }
   ],
   "source": [
    "weather_report = weather_soup.find_all('span', class_='css-901oao css-16my406 r-1qd0xha r-ad9z0x r-bcqeeo r-qvutc0')[27].text\n",
    "\n",
    "weather_report"
   ]
  },
  {
   "cell_type": "code",
   "execution_count": 35,
   "metadata": {},
   "outputs": [
    {
     "data": {
      "text/plain": [
       "[                      0                              1\n",
       " 0  Equatorial Diameter:                       6,792 km\n",
       " 1       Polar Diameter:                       6,752 km\n",
       " 2                 Mass:  6.39 × 10^23 kg (0.11 Earths)\n",
       " 3                Moons:            2 (Phobos & Deimos)\n",
       " 4       Orbit Distance:       227,943,824 km (1.38 AU)\n",
       " 5         Orbit Period:           687 days (1.9 years)\n",
       " 6  Surface Temperature:                   -87 to -5 °C\n",
       " 7         First Record:              2nd millennium BC\n",
       " 8          Recorded By:           Egyptian astronomers,\n",
       "   Mars - Earth Comparison             Mars            Earth\n",
       " 0               Diameter:         6,779 km        12,742 km\n",
       " 1                   Mass:  6.39 × 10^23 kg  5.97 × 10^24 kg\n",
       " 2                  Moons:                2                1\n",
       " 3      Distance from Sun:   227,943,824 km   149,598,262 km\n",
       " 4         Length of Year:   687 Earth days      365.24 days\n",
       " 5            Temperature:    -153 to 20 °C      -88 to 58°C,\n",
       "                       0                              1\n",
       " 0  Equatorial Diameter:                       6,792 km\n",
       " 1       Polar Diameter:                       6,752 km\n",
       " 2                 Mass:  6.39 × 10^23 kg (0.11 Earths)\n",
       " 3                Moons:            2 (Phobos & Deimos)\n",
       " 4       Orbit Distance:       227,943,824 km (1.38 AU)\n",
       " 5         Orbit Period:           687 days (1.9 years)\n",
       " 6  Surface Temperature:                   -87 to -5 °C\n",
       " 7         First Record:              2nd millennium BC\n",
       " 8          Recorded By:           Egyptian astronomers]"
      ]
     },
     "execution_count": 35,
     "metadata": {},
     "output_type": "execute_result"
    }
   ],
   "source": [
    "facts_url = 'https://space-facts.com/mars/'\n",
    "\n",
    "facts_tables = pd.read_html(facts_url)\n",
    "facts_tables"
   ]
  },
  {
   "cell_type": "code",
   "execution_count": 36,
   "metadata": {},
   "outputs": [
    {
     "data": {
      "text/html": [
       "<div>\n",
       "<style scoped>\n",
       "    .dataframe tbody tr th:only-of-type {\n",
       "        vertical-align: middle;\n",
       "    }\n",
       "\n",
       "    .dataframe tbody tr th {\n",
       "        vertical-align: top;\n",
       "    }\n",
       "\n",
       "    .dataframe thead th {\n",
       "        text-align: right;\n",
       "    }\n",
       "</style>\n",
       "<table border=\"1\" class=\"dataframe\">\n",
       "  <thead>\n",
       "    <tr style=\"text-align: right;\">\n",
       "      <th></th>\n",
       "      <th>Fact</th>\n",
       "    </tr>\n",
       "    <tr>\n",
       "      <th>Factor</th>\n",
       "      <th></th>\n",
       "    </tr>\n",
       "  </thead>\n",
       "  <tbody>\n",
       "    <tr>\n",
       "      <th>Equatorial Diameter:</th>\n",
       "      <td>6,792 km</td>\n",
       "    </tr>\n",
       "    <tr>\n",
       "      <th>Polar Diameter:</th>\n",
       "      <td>6,752 km</td>\n",
       "    </tr>\n",
       "    <tr>\n",
       "      <th>Mass:</th>\n",
       "      <td>6.39 × 10^23 kg (0.11 Earths)</td>\n",
       "    </tr>\n",
       "    <tr>\n",
       "      <th>Moons:</th>\n",
       "      <td>2 (Phobos &amp; Deimos)</td>\n",
       "    </tr>\n",
       "    <tr>\n",
       "      <th>Orbit Distance:</th>\n",
       "      <td>227,943,824 km (1.38 AU)</td>\n",
       "    </tr>\n",
       "    <tr>\n",
       "      <th>Orbit Period:</th>\n",
       "      <td>687 days (1.9 years)</td>\n",
       "    </tr>\n",
       "    <tr>\n",
       "      <th>Surface Temperature:</th>\n",
       "      <td>-87 to -5 °C</td>\n",
       "    </tr>\n",
       "    <tr>\n",
       "      <th>First Record:</th>\n",
       "      <td>2nd millennium BC</td>\n",
       "    </tr>\n",
       "    <tr>\n",
       "      <th>Recorded By:</th>\n",
       "      <td>Egyptian astronomers</td>\n",
       "    </tr>\n",
       "  </tbody>\n",
       "</table>\n",
       "</div>"
      ],
      "text/plain": [
       "                                               Fact\n",
       "Factor                                             \n",
       "Equatorial Diameter:                       6,792 km\n",
       "Polar Diameter:                            6,752 km\n",
       "Mass:                 6.39 × 10^23 kg (0.11 Earths)\n",
       "Moons:                          2 (Phobos & Deimos)\n",
       "Orbit Distance:            227,943,824 km (1.38 AU)\n",
       "Orbit Period:                  687 days (1.9 years)\n",
       "Surface Temperature:                   -87 to -5 °C\n",
       "First Record:                     2nd millennium BC\n",
       "Recorded By:                   Egyptian astronomers"
      ]
     },
     "execution_count": 36,
     "metadata": {},
     "output_type": "execute_result"
    }
   ],
   "source": [
    "facts_df = facts_tables[0]\n",
    "\n",
    "facts_df.columns=[\"Factor\", \"Fact\"]\n",
    "facts_df.set_index(\"Factor\", inplace=True)\n",
    "\n",
    "facts_df"
   ]
  },
  {
   "cell_type": "code",
   "execution_count": 37,
   "metadata": {},
   "outputs": [
    {
     "data": {
      "text/plain": [
       "'<table border=\"1\" class=\"dataframe\">  <thead>    <tr style=\"text-align: right;\">      <th></th>      <th>Fact</th>    </tr>    <tr>      <th>Factor</th>      <th></th>    </tr>  </thead>  <tbody>    <tr>      <th>Equatorial Diameter:</th>      <td>6,792 km</td>    </tr>    <tr>      <th>Polar Diameter:</th>      <td>6,752 km</td>    </tr>    <tr>      <th>Mass:</th>      <td>6.39 × 10^23 kg (0.11 Earths)</td>    </tr>    <tr>      <th>Moons:</th>      <td>2 (Phobos &amp; Deimos)</td>    </tr>    <tr>      <th>Orbit Distance:</th>      <td>227,943,824 km (1.38 AU)</td>    </tr>    <tr>      <th>Orbit Period:</th>      <td>687 days (1.9 years)</td>    </tr>    <tr>      <th>Surface Temperature:</th>      <td>-87 to -5 °C</td>    </tr>    <tr>      <th>First Record:</th>      <td>2nd millennium BC</td>    </tr>    <tr>      <th>Recorded By:</th>      <td>Egyptian astronomers</td>    </tr>  </tbody></table>'"
      ]
     },
     "execution_count": 37,
     "metadata": {},
     "output_type": "execute_result"
    }
   ],
   "source": [
    "facts_html_table = facts_df.to_html()\n",
    "facts_html_table = facts_html_table.replace('\\n', '')\n",
    "facts_html_table"
   ]
  },
  {
   "cell_type": "code",
   "execution_count": 38,
   "metadata": {},
   "outputs": [],
   "source": [
    "facts_df.to_html('facts_table.html')"
   ]
  },
  {
   "cell_type": "code",
   "execution_count": 39,
   "metadata": {},
   "outputs": [
    {
     "data": {
      "text/plain": [
       "'https://astropedia.astrogeology.usgs.gov/download/Mars/Viking/cerberus_enhanced.tif/full.jpg'"
      ]
     },
     "execution_count": 39,
     "metadata": {},
     "output_type": "execute_result"
    }
   ],
   "source": [
    "url = 'https://astrogeology.usgs.gov/search/map/Mars/Viking/cerberus_enhanced'\n",
    "\n",
    "browser.visit(url)\n",
    "cerberus_html = browser.html\n",
    "cerberus_soup = bs(cerberus_html, 'html.parser')\n",
    "\n",
    "cerberus_link = cerberus_soup.find('div', class_='downloads')\n",
    "link = cerberus_link.find('a')\n",
    "cerberus_url = link['href']\n",
    "\n",
    "cerberus_url"
   ]
  },
  {
   "cell_type": "code",
   "execution_count": 40,
   "metadata": {},
   "outputs": [
    {
     "data": {
      "text/plain": [
       "'https://astropedia.astrogeology.usgs.gov/download/Mars/Viking/schiaparelli_enhanced.tif/full.jpg'"
      ]
     },
     "execution_count": 40,
     "metadata": {},
     "output_type": "execute_result"
    }
   ],
   "source": [
    "url = 'https://astrogeology.usgs.gov/search/map/Mars/Viking/schiaparelli_enhanced'\n",
    "\n",
    "browser.visit(url)\n",
    "schiaparelli_html = browser.html\n",
    "schiaparelli_soup = bs(schiaparelli_html, 'html.parser')\n",
    "\n",
    "schiaparelli_link = schiaparelli_soup.find('div', class_='downloads')\n",
    "link = schiaparelli_link.find('a')\n",
    "schiaparelli_url = link['href']\n",
    "\n",
    "schiaparelli_url"
   ]
  },
  {
   "cell_type": "code",
   "execution_count": 41,
   "metadata": {},
   "outputs": [
    {
     "data": {
      "text/plain": [
       "'https://astropedia.astrogeology.usgs.gov/download/Mars/Viking/syrtis_major_enhanced.tif/full.jpg'"
      ]
     },
     "execution_count": 41,
     "metadata": {},
     "output_type": "execute_result"
    }
   ],
   "source": [
    "url = 'https://astrogeology.usgs.gov/search/map/Mars/Viking/syrtis_major_enhanced'\n",
    "\n",
    "browser.visit(url)\n",
    "syrtis_html = browser.html\n",
    "syrtis_soup = bs(syrtis_html, 'html.parser')\n",
    "\n",
    "syrtis_link = syrtis_soup.find('div', class_='downloads')\n",
    "link = syrtis_link.find('a')\n",
    "syrtis_url = link['href']\n",
    "\n",
    "syrtis_url"
   ]
  },
  {
   "cell_type": "code",
   "execution_count": 42,
   "metadata": {},
   "outputs": [
    {
     "data": {
      "text/plain": [
       "'https://astropedia.astrogeology.usgs.gov/download/Mars/Viking/valles_marineris_enhanced.tif/full.jpg'"
      ]
     },
     "execution_count": 42,
     "metadata": {},
     "output_type": "execute_result"
    }
   ],
   "source": [
    "url = 'https://astrogeology.usgs.gov/search/map/Mars/Viking/valles_marineris_enhanced'\n",
    "\n",
    "browser.visit(url)\n",
    "valles_html = browser.html\n",
    "valles_soup = bs(valles_html, 'html.parser')\n",
    "\n",
    "valles_link = valles_soup.find('div', class_='downloads')\n",
    "link = valles_link.find('a')\n",
    "valles_url = link['href']\n",
    "\n",
    "valles_url"
   ]
  },
  {
   "cell_type": "code",
   "execution_count": 43,
   "metadata": {},
   "outputs": [
    {
     "data": {
      "text/plain": [
       "[{'title': 'Valles Marineris Hemisphere',\n",
       "  'img_url': 'https://astropedia.astrogeology.usgs.gov/download/Mars/Viking/valles_marineris_enhanced.tif/full.jpg'},\n",
       " {'title': 'Cerberus Hemisphere',\n",
       "  'img_url': 'https://astropedia.astrogeology.usgs.gov/download/Mars/Viking/cerberus_enhanced.tif/full.jpg'},\n",
       " {'title': 'Schiaparelli Hemisphere',\n",
       "  'img_url': 'https://astropedia.astrogeology.usgs.gov/download/Mars/Viking/schiaparelli_enhanced.tif/full.jpg'},\n",
       " {'title': 'Syrtis Major Hemisphere',\n",
       "  'img_url': 'https://astropedia.astrogeology.usgs.gov/download/Mars/Viking/syrtis_major_enhanced.tif/full.jpg'}]"
      ]
     },
     "execution_count": 43,
     "metadata": {},
     "output_type": "execute_result"
    }
   ],
   "source": [
    "hemisphere_image_urls = [\n",
    "    {\"title\": \"Valles Marineris Hemisphere\", \"img_url\": valles_url},\n",
    "    {\"title\": \"Cerberus Hemisphere\", \"img_url\": cerberus_url},\n",
    "    {\"title\": \"Schiaparelli Hemisphere\", \"img_url\": schiaparelli_url},\n",
    "    {\"title\": \"Syrtis Major Hemisphere\", \"img_url\": syrtis_url},\n",
    "]\n",
    "\n",
    "hemisphere_image_urls"
   ]
  },
  {
   "cell_type": "code",
   "execution_count": null,
   "metadata": {},
   "outputs": [],
   "source": []
  },
  {
   "cell_type": "code",
   "execution_count": null,
   "metadata": {},
   "outputs": [],
   "source": []
  }
 ],
 "metadata": {
  "kernelspec": {
   "display_name": "Python 3",
   "language": "python",
   "name": "python3"
  },
  "language_info": {
   "codemirror_mode": {
    "name": "ipython",
    "version": 3
   },
   "file_extension": ".py",
   "mimetype": "text/x-python",
   "name": "python",
   "nbconvert_exporter": "python",
   "pygments_lexer": "ipython3",
   "version": "3.7.6"
  }
 },
 "nbformat": 4,
 "nbformat_minor": 4
}
